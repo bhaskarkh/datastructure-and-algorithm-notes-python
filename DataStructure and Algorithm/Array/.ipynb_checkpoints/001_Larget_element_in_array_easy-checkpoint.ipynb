{
 "cells": [
  {
   "cell_type": "markdown",
   "id": "9a5ce017",
   "metadata": {},
   "source": [
    "# 001) Largest Number in array\n",
    "### Given an array A[] of size n. The task is to find the largest element in it."
   ]
  },
  {
   "cell_type": "markdown",
   "id": "22bd8f08",
   "metadata": {},
   "source": [
    "# Time: 3 m 30 sec"
   ]
  },
  {
   "cell_type": "code",
   "execution_count": null,
   "id": "ebe016cd",
   "metadata": {},
   "outputs": [],
   "source": [
    "def largest( arr, n):\n",
    "    maxNum=arr[0]\n",
    "    for i in arr:\n",
    "        if i>maxNum:\n",
    "            maxNum=i\n",
    "        \n",
    "    return maxNum"
   ]
  },
  {
   "cell_type": "markdown",
   "id": "6432dd92",
   "metadata": {},
   "source": [
    "# 002) Game with nos\n",
    "### You are given an array arr[], you have to re-construct an array arr[].The values in arr[] are obtained by doing Xor of consecutive elements in the array."
   ]
  },
  {
   "cell_type": "markdown",
   "id": "e3645af8",
   "metadata": {},
   "source": [
    "# Time : 4 m 47 sec"
   ]
  },
  {
   "cell_type": "code",
   "execution_count": 1,
   "id": "e79e1cc3",
   "metadata": {},
   "outputs": [],
   "source": [
    "def game_with_number (arr) : \n",
    "    newArray=[]\n",
    "    for i in range(len(arr)-1):\n",
    "        newArray.append(arr[i]^arr[i+1])\n",
    "    newArray.append(arr[len(arr)-1])\n",
    "    return newArray\n",
    "    "
   ]
  },
  {
   "cell_type": "code",
   "execution_count": null,
   "id": "e61aa9b0",
   "metadata": {},
   "outputs": [],
   "source": []
  }
 ],
 "metadata": {
  "kernelspec": {
   "display_name": "Python 3",
   "language": "python",
   "name": "python3"
  },
  "language_info": {
   "codemirror_mode": {
    "name": "ipython",
    "version": 3
   },
   "file_extension": ".py",
   "mimetype": "text/x-python",
   "name": "python",
   "nbconvert_exporter": "python",
   "pygments_lexer": "ipython3",
   "version": "3.8.1"
  }
 },
 "nbformat": 4,
 "nbformat_minor": 5
}
