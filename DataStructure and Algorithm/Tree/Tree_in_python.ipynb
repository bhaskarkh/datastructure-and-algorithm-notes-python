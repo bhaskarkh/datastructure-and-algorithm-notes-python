{
 "cells": [
  {
   "cell_type": "markdown",
   "id": "f5ed9996",
   "metadata": {},
   "source": [
    "# <center>Tree Implementation in python</center>"
   ]
  },
  {
   "cell_type": "markdown",
   "id": "d95f53a5",
   "metadata": {},
   "source": [
    "# Tree"
   ]
  },
  {
   "cell_type": "markdown",
   "id": "e3c8f7e4",
   "metadata": {},
   "source": [
    "<img src=\"tree.png\" width=300 height=100 alt=\"notebook by Coding Error\"/>"
   ]
  },
  {
   "cell_type": "markdown",
   "id": "ad2f66c2",
   "metadata": {},
   "source": [
    "## Important point to remember Trees\n",
    "\n",
    "1. Can have Infinite number of children\n",
    "2. A tree cannot be empty"
   ]
  },
  {
   "attachments": {},
   "cell_type": "markdown",
   "id": "e7836985",
   "metadata": {},
   "source": [
    "# Binary Tree"
   ]
  },
  {
   "cell_type": "markdown",
   "id": "f65c7dd1",
   "metadata": {},
   "source": [
    "<img src=\"binary_tree.png\" width=200 height=100 alt=\"notebook by Coding Error\"/>"
   ]
  },
  {
   "cell_type": "markdown",
   "id": "a9072f4d",
   "metadata": {},
   "source": [
    "## Important point to remember Binary Tree\n",
    "\n",
    "1. Can have atmost(maximum) two children"
   ]
  },
  {
   "cell_type": "markdown",
   "id": "6aaf83ec",
   "metadata": {},
   "source": [
    "# Binary search Tree"
   ]
  },
  {
   "cell_type": "markdown",
   "id": "05d5ca2f",
   "metadata": {},
   "source": [
    "<img src=\"bst.png\" width=200 height=100/>"
   ]
  },
  {
   "cell_type": "markdown",
   "id": "7c720557",
   "metadata": {},
   "source": [
    "## Important point to remember Binary search Tree\n",
    "\n",
    "1. Can have atmost(maximum) two children\n",
    "2. Right child will be more than parent and left child will be less than parent"
   ]
  },
  {
   "cell_type": "markdown",
   "id": "46c519df",
   "metadata": {},
   "source": [
    "<img src=\"tree_traversal.png\" width=600 height=500/>"
   ]
  },
  {
   "cell_type": "markdown",
   "id": "3a0361bf",
   "metadata": {},
   "source": [
    "## Implementation of Binary Search Tree"
   ]
  },
  {
   "cell_type": "code",
   "execution_count": 77,
   "id": "e21dcd18",
   "metadata": {},
   "outputs": [],
   "source": [
    "class Node:\n",
    "    #intialize parent Node in constructor\n",
    "    def __init__(self,data):\n",
    "        self.data=data\n",
    "        self.left=None\n",
    "        self.right=None\n",
    "    \n",
    "        \n",
    "    def insert(self,data):\n",
    "        \n",
    "        if self.data: #check parent is there or not\n",
    "            #print(\"parent is present =\",self.data)\n",
    "            if data<self.data: #check child is less or more.if child is smalller than parent then insert in left side\n",
    "                #print(\"============left======================\")\n",
    "                #print(\"child is less than parent child= \",data,\" >>>parent= \",self.data)\n",
    "                if self.left:\n",
    "                    #print(\"left child  of parent= \",self.data,\" is not null\")\n",
    "                    self.left.insert(data) #inset in child of child >> recursive\n",
    "                else:\n",
    "                    #print(\"left child  of parent= \",self.data,\" is  NULL\")\n",
    "                    self.left=Node(data)\n",
    "                    \n",
    "            elif data>self.data:#check child is less or more.if child is larger than parent then insert in right side\n",
    "                #print(\"**************right************\")\n",
    "                #print(\"child is more than parent child= \",data,\" >>>parent= \",self.data)\n",
    "                if self.right:\n",
    "                    #print(\"right child  of parent= \",self.data,\" is not null\")\n",
    "                    self.right.insert(data)\n",
    "                else:\n",
    "                    #print(\"right child  of parent= \",self.data,\" is  NULL\")\n",
    "                    self.right=Node(data) \n",
    "                      \n",
    "        else:\n",
    "            self.data=data\n",
    "            \n",
    "       \n",
    "    \n",
    "    def printNode(self):\n",
    "        return self.data\n",
    "    \n",
    "    \n",
    "    # this also give sorted value\n",
    "    def inOrderTraversal(self,retList):\n",
    "        if self.data:\n",
    "            if self.left:\n",
    "                self.left.inOrderTraversal(retList)\n",
    "            retList.append(self.printNode())\n",
    "            \n",
    "            \n",
    "            if self.right:\n",
    "                self.right.inOrderTraversal(retList)\n",
    "        \n",
    "            \n",
    "            \n",
    "        else:\n",
    "            print(\"empty Tree\")\n",
    "        return retList\n",
    "        "
   ]
  },
  {
   "cell_type": "code",
   "execution_count": 78,
   "id": "b58da814",
   "metadata": {},
   "outputs": [
    {
     "name": "stdout",
     "output_type": "stream",
     "text": [
      "################# Traversal Satart ##################\n"
     ]
    },
    {
     "data": {
      "text/plain": [
       "[2, 3, 6, 7, 8, 10]"
      ]
     },
     "execution_count": 78,
     "metadata": {},
     "output_type": "execute_result"
    }
   ],
   "source": [
    "root = Node(10)\n",
    "root.insert(8)\n",
    "root.insert(2)\n",
    "root.insert(3)\n",
    "root.insert(6)\n",
    "root.insert(7)\n",
    "print(\"################# Traversal Satart ##################\")\n",
    "retList=[]\n",
    "root.inOrderTraversal(retList)"
   ]
  },
  {
   "cell_type": "code",
   "execution_count": null,
   "id": "950b16eb",
   "metadata": {},
   "outputs": [],
   "source": []
  },
  {
   "cell_type": "code",
   "execution_count": null,
   "id": "cea25f63",
   "metadata": {},
   "outputs": [],
   "source": []
  },
  {
   "cell_type": "code",
   "execution_count": null,
   "id": "5409809b",
   "metadata": {},
   "outputs": [],
   "source": []
  }
 ],
 "metadata": {
  "kernelspec": {
   "display_name": "Python 3",
   "language": "python",
   "name": "python3"
  },
  "language_info": {
   "codemirror_mode": {
    "name": "ipython",
    "version": 3
   },
   "file_extension": ".py",
   "mimetype": "text/x-python",
   "name": "python",
   "nbconvert_exporter": "python",
   "pygments_lexer": "ipython3",
   "version": "3.8.1"
  }
 },
 "nbformat": 4,
 "nbformat_minor": 5
}
