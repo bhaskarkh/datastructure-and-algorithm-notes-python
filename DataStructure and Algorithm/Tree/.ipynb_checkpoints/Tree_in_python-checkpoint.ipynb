{
 "cells": [
  {
   "cell_type": "markdown",
   "id": "4a1ced13",
   "metadata": {},
   "source": [
    "# <center>Tree Implementation in python</center>"
   ]
  },
  {
   "cell_type": "markdown",
   "id": "5b6611a2",
   "metadata": {},
   "source": [
    "# Tree"
   ]
  },
  {
   "cell_type": "markdown",
   "id": "46ba6ef4",
   "metadata": {},
   "source": [
    "<img src=\"tree.png\" width=300 height=100 alt=\"notebook by Coding Error\"/>"
   ]
  },
  {
   "cell_type": "markdown",
   "id": "4fdc8e37",
   "metadata": {},
   "source": [
    "## Important point to remember Trees\n",
    "\n",
    "1. Can have Infinite number of children\n",
    "2. A tree cannot be empty"
   ]
  },
  {
   "attachments": {},
   "cell_type": "markdown",
   "id": "7f881cad",
   "metadata": {},
   "source": [
    "# Binary Tree"
   ]
  },
  {
   "cell_type": "markdown",
   "id": "44e8efa0",
   "metadata": {},
   "source": [
    "<img src=\"binary_tree.png\" width=200 height=100 alt=\"notebook by Coding Error\"/>"
   ]
  },
  {
   "cell_type": "markdown",
   "id": "477654b3",
   "metadata": {},
   "source": [
    "## Important point to remember Binary Tree\n",
    "\n",
    "1. Can have atmost(maximum) two children"
   ]
  },
  {
   "cell_type": "markdown",
   "id": "9f21353c",
   "metadata": {},
   "source": [
    "# Binary search Tree"
   ]
  },
  {
   "cell_type": "markdown",
   "id": "d9ecf2c8",
   "metadata": {},
   "source": [
    "<img src=\"bst.png\" width=200 height=100/>"
   ]
  },
  {
   "cell_type": "markdown",
   "id": "1c07b14c",
   "metadata": {},
   "source": [
    "## Important point to remember Binary search Tree\n",
    "\n",
    "1. Can have atmost(maximum) two children\n",
    "2. Right child will be more than parent and left child will be less than parent"
   ]
  },
  {
   "cell_type": "markdown",
   "id": "46562659",
   "metadata": {},
   "source": [
    "<img src=\"tree_traversal.png\" width=600 height=500/>"
   ]
  },
  {
   "cell_type": "markdown",
   "id": "07b9532a",
   "metadata": {},
   "source": [
    "## Implementation of Binary Search Tree"
   ]
  },
  {
   "cell_type": "code",
   "execution_count": 63,
   "id": "859a4a15",
   "metadata": {},
   "outputs": [],
   "source": [
    "class Node:\n",
    "    #intialize parent Node in constructor\n",
    "    def __init__(self,data):\n",
    "        self.data=data\n",
    "        self.left=None\n",
    "        self.right=None\n",
    "    \n",
    "        \n",
    "    def insert(self,data):\n",
    "        \n",
    "        if self.data: #check parent is there or not\n",
    "            print(\"parent is present =\",self.data)\n",
    "            if data<self.data: #check child is less or more.if child is smalller than parent then insert in left side\n",
    "                print(\"============left======================\")\n",
    "                print(\"child is less than parent child= \",data,\" >>>parent= \",self.data)\n",
    "                if self.left:\n",
    "                    print(\"left child  of parent= \",self.data,\" is not null\")\n",
    "                    self.left.insert(data) #inset in child of child >> recursive\n",
    "                else:\n",
    "                    print(\"left child  of parent= \",self.data,\" is  NULL\")\n",
    "                    self.left=Node(data)\n",
    "                    \n",
    "            elif data>self.data:#check child is less or more.if child is larger than parent then insert in right side\n",
    "                print(\"**************right************\")\n",
    "                print(\"child is more than parent child= \",data,\" >>>parent= \",self.data)\n",
    "                if self.right:\n",
    "                    print(\"right child  of parent= \",self.data,\" is not null\")\n",
    "                    self.right.insert(data)\n",
    "                else:\n",
    "                    print(\"right child  of parent= \",self.data,\" is  NULL\")\n",
    "                    self.right=Node(data) \n",
    "                      \n",
    "        else:\n",
    "            self.data=data\n",
    "            \n",
    "        print(\"+++++++++++++++++++++++Insert Ended+++++++++++++++++++++++++++\")\n",
    "    \n",
    "    def printNode(self):\n",
    "        return self.data\n",
    "    \n",
    "    \n",
    "    # this also give sorted value\n",
    "    def inOrderTraversal(self):\n",
    "        retList=[]\n",
    "        if self.data:\n",
    "            if self.left:\n",
    "                self.left.inOrderTraversal()\n",
    "            \n",
    "            \n",
    "            retList.append(self.printNode())\n",
    "            \n",
    "            if self.right:\n",
    "                self.right.inOrderTraversal()\n",
    "        \n",
    "            \n",
    "            \n",
    "        else:\n",
    "            print(\"empty Tree\")\n",
    "        return retList\n",
    "        "
   ]
  },
  {
   "cell_type": "code",
   "execution_count": 64,
   "id": "d623a41d",
   "metadata": {},
   "outputs": [
    {
     "name": "stdout",
     "output_type": "stream",
     "text": [
      "parent is present = 10\n",
      "============left======================\n",
      "child is less than parent child=  8  >>>parent=  10\n",
      "left child  of parent=  10  is  NULL\n",
      "+++++++++++++++++++++++Insert Ended+++++++++++++++++++++++++++\n",
      "parent is present = 10\n",
      "============left======================\n",
      "child is less than parent child=  2  >>>parent=  10\n",
      "left child  of parent=  10  is not null\n",
      "parent is present = 8\n",
      "============left======================\n",
      "child is less than parent child=  2  >>>parent=  8\n",
      "left child  of parent=  8  is  NULL\n",
      "+++++++++++++++++++++++Insert Ended+++++++++++++++++++++++++++\n",
      "+++++++++++++++++++++++Insert Ended+++++++++++++++++++++++++++\n",
      "parent is present = 10\n",
      "============left======================\n",
      "child is less than parent child=  3  >>>parent=  10\n",
      "left child  of parent=  10  is not null\n",
      "parent is present = 8\n",
      "============left======================\n",
      "child is less than parent child=  3  >>>parent=  8\n",
      "left child  of parent=  8  is not null\n",
      "parent is present = 2\n",
      "**************right************\n",
      "child is more than parent child=  3  >>>parent=  2\n",
      "right child  of parent=  2  is  NULL\n",
      "+++++++++++++++++++++++Insert Ended+++++++++++++++++++++++++++\n",
      "+++++++++++++++++++++++Insert Ended+++++++++++++++++++++++++++\n",
      "+++++++++++++++++++++++Insert Ended+++++++++++++++++++++++++++\n",
      "parent is present = 10\n",
      "============left======================\n",
      "child is less than parent child=  6  >>>parent=  10\n",
      "left child  of parent=  10  is not null\n",
      "parent is present = 8\n",
      "============left======================\n",
      "child is less than parent child=  6  >>>parent=  8\n",
      "left child  of parent=  8  is not null\n",
      "parent is present = 2\n",
      "**************right************\n",
      "child is more than parent child=  6  >>>parent=  2\n",
      "right child  of parent=  2  is not null\n",
      "parent is present = 3\n",
      "**************right************\n",
      "child is more than parent child=  6  >>>parent=  3\n",
      "right child  of parent=  3  is  NULL\n",
      "+++++++++++++++++++++++Insert Ended+++++++++++++++++++++++++++\n",
      "+++++++++++++++++++++++Insert Ended+++++++++++++++++++++++++++\n",
      "+++++++++++++++++++++++Insert Ended+++++++++++++++++++++++++++\n",
      "+++++++++++++++++++++++Insert Ended+++++++++++++++++++++++++++\n",
      "parent is present = 10\n",
      "============left======================\n",
      "child is less than parent child=  7  >>>parent=  10\n",
      "left child  of parent=  10  is not null\n",
      "parent is present = 8\n",
      "============left======================\n",
      "child is less than parent child=  7  >>>parent=  8\n",
      "left child  of parent=  8  is not null\n",
      "parent is present = 2\n",
      "**************right************\n",
      "child is more than parent child=  7  >>>parent=  2\n",
      "right child  of parent=  2  is not null\n",
      "parent is present = 3\n",
      "**************right************\n",
      "child is more than parent child=  7  >>>parent=  3\n",
      "right child  of parent=  3  is not null\n",
      "parent is present = 6\n",
      "**************right************\n",
      "child is more than parent child=  7  >>>parent=  6\n",
      "right child  of parent=  6  is  NULL\n",
      "+++++++++++++++++++++++Insert Ended+++++++++++++++++++++++++++\n",
      "+++++++++++++++++++++++Insert Ended+++++++++++++++++++++++++++\n",
      "+++++++++++++++++++++++Insert Ended+++++++++++++++++++++++++++\n",
      "+++++++++++++++++++++++Insert Ended+++++++++++++++++++++++++++\n",
      "+++++++++++++++++++++++Insert Ended+++++++++++++++++++++++++++\n",
      "################# Traversal Satart ##################\n",
      "2\n",
      "3\n",
      "6\n",
      "7\n",
      "8\n",
      "10\n"
     ]
    },
    {
     "data": {
      "text/plain": [
       "[10]"
      ]
     },
     "execution_count": 64,
     "metadata": {},
     "output_type": "execute_result"
    }
   ],
   "source": [
    "root = Node(10)\n",
    "root.insert(8)\n",
    "root.insert(2)\n",
    "root.insert(3)\n",
    "root.insert(6)\n",
    "root.insert(7)\n",
    "print(\"################# Traversal Satart ##################\")\n",
    "root.inOrderTraversal()"
   ]
  },
  {
   "cell_type": "code",
   "execution_count": null,
   "id": "3aea3b3f",
   "metadata": {},
   "outputs": [],
   "source": []
  },
  {
   "cell_type": "code",
   "execution_count": null,
   "id": "f2207f27",
   "metadata": {},
   "outputs": [],
   "source": []
  },
  {
   "cell_type": "code",
   "execution_count": null,
   "id": "9f4daeb4",
   "metadata": {},
   "outputs": [],
   "source": []
  }
 ],
 "metadata": {
  "kernelspec": {
   "display_name": "Python 3",
   "language": "python",
   "name": "python3"
  },
  "language_info": {
   "codemirror_mode": {
    "name": "ipython",
    "version": 3
   },
   "file_extension": ".py",
   "mimetype": "text/x-python",
   "name": "python",
   "nbconvert_exporter": "python",
   "pygments_lexer": "ipython3",
   "version": "3.8.1"
  }
 },
 "nbformat": 4,
 "nbformat_minor": 5
}
