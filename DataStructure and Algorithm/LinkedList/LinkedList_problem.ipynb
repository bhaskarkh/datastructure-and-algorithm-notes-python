{
 "cells": [
  {
   "cell_type": "markdown",
   "id": "24144451",
   "metadata": {},
   "source": [
    "## 001 Count nodes of linked list\n",
    "#### Given a singly linked list. The task is to find the length of the linked list, where length is defined as the number of nodes in the linked list."
   ]
  },
  {
   "cell_type": "code",
   "execution_count": 2,
   "id": "8b47d83f",
   "metadata": {},
   "outputs": [],
   "source": [
    "class Node():\n",
    "    def __init__(self,data=None,next=None):\n",
    "        self.data=data\n",
    "        self.next=next\n",
    "        \n",
    "class LinkedList():\n",
    "    def __init__(self):\n",
    "        self.head=None\n",
    "    def insertAtStart(self,data):\n",
    "        if self.head is None:\n",
    "            self.head=Node(data)\n",
    "        else:\n",
    "            itr=self.head\n",
    "            while itr.next:\n",
    "                itr=itr.next\n",
    "            itr.next=Node(data)\n",
    "    def print(self):\n",
    "        if self.head is None:\n",
    "            print(\"empty linkedList\")\n",
    "        else:\n",
    "            itr=self.head\n",
    "            strVal=\"\"\n",
    "            while itr:\n",
    "                strVal+=itr.data\n",
    "                itr=itr.next\n",
    "                if itr is not None:\n",
    "                    strVal+=\"---->>\"\n",
    "            print(strVal)\n",
    "            \n",
    "        \n",
    "    def insertListIntoLinkedList(self,listVal):\n",
    "        if len(listVal) !=0:\n",
    "            for i in listVal:\n",
    "                self.insertAtStart(i)\n",
    "        return self.head\n",
    "    ## to check single linked list is circular or not\n",
    "    def isCircular(head):\n",
    "        # Code here\n",
    "        if head is None:\n",
    "           #print(\"inside if\")\n",
    "            return True\n",
    "        else:\n",
    "            #print(\"inside else\")\n",
    "            head_node=head\n",
    "            #print(\"head_data\",head_data)\n",
    "            head=head.next\n",
    "            while head is not None and head is not head_node:\n",
    "                head=head.next\n",
    "\n",
    "\n",
    "        #print(\"return False\")\n",
    "        return (head==head_node)\n",
    "                \n",
    "            "
   ]
  },
  {
   "cell_type": "code",
   "execution_count": 8,
   "id": "505d5510",
   "metadata": {},
   "outputs": [
    {
     "name": "stdout",
     "output_type": "stream",
     "text": [
      "396\n"
     ]
    },
    {
     "data": {
      "text/plain": [
       "False"
      ]
     },
     "execution_count": 8,
     "metadata": {},
     "output_type": "execute_result"
    }
   ],
   "source": [
    "ll=LinkedList()\n",
    "headNode=ll.insertListIntoLinkedList([859,396,30,238,236,794,819,429,144,12,929,530,777,405,444,764,614,539,607,841,905,819])\n",
    "\n",
    "print(headNode.next.data)\n",
    "ll.isCircular(headNode)"
   ]
  },
  {
   "cell_type": "markdown",
   "id": "c68724e3",
   "metadata": {},
   "source": [
    "### to check single Linkedlist is circular or Not"
   ]
  },
  {
   "cell_type": "code",
   "execution_count": 10,
   "id": "15cef403",
   "metadata": {},
   "outputs": [],
   "source": [
    " def isCircular(head):\n",
    "        # Code here\n",
    "        if head is None:\n",
    "           #print(\"inside if\")\n",
    "            return True\n",
    "        else:\n",
    "            #print(\"inside else\")\n",
    "            head_node=head\n",
    "            #print(\"head_data\",head_data)\n",
    "            head=head.next\n",
    "            while head is not None and head is not head_node:\n",
    "                head=head.next\n",
    "\n",
    "\n",
    "        #print(\"return False\")\n",
    "        return (head==head_node)"
   ]
  },
  {
   "cell_type": "markdown",
   "id": "084dc9ad",
   "metadata": {},
   "source": [
    "## Find n/k th node in Linked list "
   ]
  },
  {
   "cell_type": "code",
   "execution_count": 7,
   "id": "fb7c6612",
   "metadata": {},
   "outputs": [],
   "source": [
    "import math\n",
    "def length(head):\n",
    "    count=0\n",
    "    while head:\n",
    "        count+=1\n",
    "        head=head.next\n",
    "    return count\n",
    "def fractionalNodes(head,k):\n",
    "        #add code here\n",
    "        N=length(head)\n",
    "        index=math.ceil(N/k)\n",
    "        if index<0 and index>N:\n",
    "            return -1\n",
    "            \n",
    "        count=1\n",
    "        while head:\n",
    "            if count==index:\n",
    "                return head.data\n",
    "            else:\n",
    "                head=head.next\n",
    "                count+=1"
   ]
  },
  {
   "cell_type": "code",
   "execution_count": 8,
   "id": "ab90a9e3",
   "metadata": {},
   "outputs": [
    {
     "name": "stdout",
     "output_type": "stream",
     "text": [
      "3\n"
     ]
    }
   ],
   "source": [
    "ll=LinkedList()\n",
    "headNode=ll.insertListIntoLinkedList([1,2,3,4,5,6])\n",
    "print(fractionalNodes(headNode,2))"
   ]
  },
  {
   "cell_type": "code",
   "execution_count": null,
   "id": "466b4b03",
   "metadata": {},
   "outputs": [],
   "source": []
  }
 ],
 "metadata": {
  "kernelspec": {
   "display_name": "Python 3",
   "language": "python",
   "name": "python3"
  },
  "language_info": {
   "codemirror_mode": {
    "name": "ipython",
    "version": 3
   },
   "file_extension": ".py",
   "mimetype": "text/x-python",
   "name": "python",
   "nbconvert_exporter": "python",
   "pygments_lexer": "ipython3",
   "version": "3.8.1"
  }
 },
 "nbformat": 4,
 "nbformat_minor": 5
}
