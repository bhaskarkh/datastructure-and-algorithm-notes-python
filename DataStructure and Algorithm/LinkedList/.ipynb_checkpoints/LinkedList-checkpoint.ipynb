{
 "cells": [
  {
   "cell_type": "markdown",
   "id": "7d938ec5",
   "metadata": {},
   "source": [
    "# LinkedList"
   ]
  },
  {
   "cell_type": "markdown",
   "id": "58f964b8",
   "metadata": {},
   "source": [
    "<h3> <font color=\"#FF5722\">Linked list is a linear data structure whose element are not stored in  continous memory location. Element in linked list is linked by pointer </font></h3>"
   ]
  },
  {
   "cell_type": "markdown",
   "id": "634cd0e1",
   "metadata": {},
   "source": [
    "<img src=\"Array_linkedList_difference.png\"/>"
   ]
  },
  {
   "cell_type": "markdown",
   "id": "cc67c1a6",
   "metadata": {},
   "source": [
    "# Implementation of LinkedList in Python"
   ]
  },
  {
   "cell_type": "markdown",
   "id": "65643ad3",
   "metadata": {},
   "source": [
    "#### All function \n",
    "1. insert at start\n",
    "2. print linkedlist\n",
    "3. insert at end\n",
    "4. convert list to linkedlist \n",
    "5. remove at particular index\n",
    "6. insert at index\n",
    "7. insert after value\n",
    "8. remove by value"
   ]
  },
  {
   "cell_type": "code",
   "execution_count": 3,
   "id": "33e9677e",
   "metadata": {},
   "outputs": [],
   "source": [
    "class Node():\n",
    "    def __init__(self,data=None, next=None):\n",
    "        self.data=data\n",
    "        self.next=next\n",
    "        print(\"hello\",data)\n",
    "class linkedList():\n",
    "    def __init__(self):\n",
    "        self.head=None\n",
    "        \n",
    "    def insert_at_start(self,data):\n",
    "        node=Node(data,self.head)\n",
    "        self.head=node\n",
    "        \n",
    "    def print(self):\n",
    "        itr=self.head\n",
    "        if itr is None:\n",
    "            print(\"LinkedList is empty\")\n",
    "            return\n",
    "        \n",
    "        while itr:\n",
    "            \n",
    "        \n",
    "        "
   ]
  },
  {
   "cell_type": "code",
   "execution_count": 4,
   "id": "b57d0d0e",
   "metadata": {},
   "outputs": [
    {
     "name": "stdout",
     "output_type": "stream",
     "text": [
      "hello 50\n"
     ]
    }
   ],
   "source": [
    "ss=Node(50,None)"
   ]
  },
  {
   "cell_type": "code",
   "execution_count": null,
   "id": "82021388",
   "metadata": {},
   "outputs": [],
   "source": []
  }
 ],
 "metadata": {
  "kernelspec": {
   "display_name": "Python 3",
   "language": "python",
   "name": "python3"
  },
  "language_info": {
   "codemirror_mode": {
    "name": "ipython",
    "version": 3
   },
   "file_extension": ".py",
   "mimetype": "text/x-python",
   "name": "python",
   "nbconvert_exporter": "python",
   "pygments_lexer": "ipython3",
   "version": "3.8.1"
  }
 },
 "nbformat": 4,
 "nbformat_minor": 5
}
