{
 "cells": [
  {
   "cell_type": "code",
   "execution_count": 1,
   "id": "13486f6a",
   "metadata": {},
   "outputs": [],
   "source": [
    "## Kadane \n",
    "arr=[1,2,3,-2,5]"
   ]
  },
  {
   "cell_type": "code",
   "execution_count": null,
   "id": "994854a7",
   "metadata": {},
   "outputs": [],
   "source": [
    "def kadane(arr):\n",
    "    "
   ]
  }
 ],
 "metadata": {
  "kernelspec": {
   "display_name": "Python 3",
   "language": "python",
   "name": "python3"
  },
  "language_info": {
   "codemirror_mode": {
    "name": "ipython",
    "version": 3
   },
   "file_extension": ".py",
   "mimetype": "text/x-python",
   "name": "python",
   "nbconvert_exporter": "python",
   "pygments_lexer": "ipython3",
   "version": "3.8.1"
  }
 },
 "nbformat": 4,
 "nbformat_minor": 5
}
